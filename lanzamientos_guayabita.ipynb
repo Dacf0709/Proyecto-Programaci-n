{
 "cells": [
  {
   "cell_type": "code",
   "execution_count": 31,
   "id": "7f819eb3",
   "metadata": {},
   "outputs": [],
   "source": [
    "import random"
   ]
  },
  {
   "cell_type": "code",
   "execution_count": 33,
   "id": "f1ce235e",
   "metadata": {},
   "outputs": [
    {
     "data": {
      "text/plain": [
       "1"
      ]
     },
     "execution_count": 33,
     "metadata": {},
     "output_type": "execute_result"
    }
   ],
   "source": [
    "random.randint(1,6)\n"
   ]
  },
  {
   "cell_type": "code",
   "execution_count": 118,
   "id": "f072cf64",
   "metadata": {},
   "outputs": [],
   "source": [
    "def lanzamientos():\n",
    "    n = random.randint(1,6)\n",
    "    m = random.randint(1,6)\n",
    "        \n",
    "    print (\"primer lanzamiento \", n)\n",
    "    print (\"segundo lanzamiento\",m)\n",
    "    if m>n:\n",
    "        print (\"El jugador gana, retira lo que aposto\")\n",
    "        print (\" \")\n",
    "        return (1)\n",
    "    else:\n",
    "        if n==m:\n",
    "            print (\"Tiros iguales, debe colocar el case\")\n",
    "            print (\" \")\n",
    "            return (0)\n",
    "        else:\n",
    "            print (\"El jugador pierde, debe colocar lo que aposto\")\n",
    "            print (\" \")\n",
    "            return (0)\n",
    "    if m==1 or m==6:\n",
    "        print (\"El jugador pierde con \",n,\" debe colocar el case\")\n",
    "        print (\" \")\n",
    "        return (0)\n",
    "    else:\n",
    "        return lanzamiento(n,random.randint(1,6))"
   ]
  },
  {
   "cell_type": "code",
   "execution_count": 119,
   "id": "465e185d",
   "metadata": {},
   "outputs": [
    {
     "name": "stdout",
     "output_type": "stream",
     "text": [
      "primer lanzamiento  4\n",
      "segundo lanzamiento 2\n",
      "El jugador pierde, debe colocar lo que aposto\n",
      " \n"
     ]
    },
    {
     "data": {
      "text/plain": [
       "0"
      ]
     },
     "execution_count": 119,
     "metadata": {},
     "output_type": "execute_result"
    }
   ],
   "source": [
    "lanzamientos()"
   ]
  },
  {
   "cell_type": "code",
   "execution_count": null,
   "id": "6496bedd",
   "metadata": {},
   "outputs": [],
   "source": []
  }
 ],
 "metadata": {
  "kernelspec": {
   "display_name": "Python 3 (ipykernel)",
   "language": "python",
   "name": "python3"
  },
  "language_info": {
   "codemirror_mode": {
    "name": "ipython",
    "version": 3
   },
   "file_extension": ".py",
   "mimetype": "text/x-python",
   "name": "python",
   "nbconvert_exporter": "python",
   "pygments_lexer": "ipython3",
   "version": "3.9.7"
  }
 },
 "nbformat": 4,
 "nbformat_minor": 5
}
