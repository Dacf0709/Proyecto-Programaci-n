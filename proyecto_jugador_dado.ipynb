{
 "cells": [
  {
   "cell_type": "code",
   "execution_count": 27,
   "id": "e83bf4b6",
   "metadata": {},
   "outputs": [],
   "source": [
    "import random "
   ]
  },
  {
   "cell_type": "code",
   "execution_count": 28,
   "id": "b290c8fd",
   "metadata": {},
   "outputs": [],
   "source": [
    "jugadores=2\n",
    "maximo_jugadores=5\n",
    "gsnador=False\n",
    "nombre_jugador=[]"
   ]
  },
  {
   "cell_type": "code",
   "execution_count": 29,
   "id": "ad469445",
   "metadata": {},
   "outputs": [],
   "source": [
    "def juego():\n",
    "    global jugadores\n",
    "    jugadores=int(input(\"digite el numero de jugadores,recuerde que deben haber maximo 5 jugadores y minimo 2: \"))\n",
    "    if (jugadores>=2 and jugadores <=5 ):\n",
    "        print(\"se han elegido {} jugadores\".format(jugadores))\n",
    "    else:\n",
    "        print(\"Digite un numero valido de jugadores\")\n",
    "        "
   ]
  },
  {
   "cell_type": "code",
   "execution_count": 30,
   "id": "4d901281",
   "metadata": {},
   "outputs": [
    {
     "name": "stdout",
     "output_type": "stream",
     "text": [
      "digite el numero de jugadores,recuerde que deben haber maximo 5 jugadores y minimo 2: 3\n",
      "se han elegido 3 jugadores\n"
     ]
    }
   ],
   "source": [
    "juego()"
   ]
  },
  {
   "cell_type": "code",
   "execution_count": 31,
   "id": "79dfcdb4",
   "metadata": {},
   "outputs": [],
   "source": [
    "def nombre_jugadores():\n",
    "    global nombre_jugador\n",
    "    for i in range(jugadores):\n",
    "        print(\"jugador #\", str(i+1) + \" por favor ingrese su nombre :\")\n",
    "        NombreXD = input(\"\")\n",
    "        nombre_jugador.append([NombreXD, 10000, 0])\n",
    "        print(\"El jugador\", NombreXD, \"Esta definido\")\n"
   ]
  },
  {
   "cell_type": "code",
   "execution_count": 32,
   "id": "7fe9d61a",
   "metadata": {},
   "outputs": [
    {
     "name": "stdout",
     "output_type": "stream",
     "text": [
      "jugador # 1 por favor ingrese su nombre :\n",
      "re\n",
      "El jugador re Esta definido\n",
      "jugador # 2 por favor ingrese su nombre :\n",
      "rt\n",
      "El jugador rt Esta definido\n",
      "jugador # 3 por favor ingrese su nombre :\n",
      "rf\n",
      "El jugador rf Esta definido\n"
     ]
    }
   ],
   "source": [
    "nombre_jugadores()"
   ]
  },
  {
   "cell_type": "code",
   "execution_count": 33,
   "id": "0c805da7",
   "metadata": {},
   "outputs": [],
   "source": [
    "def dado():\n",
    "    num = random.randint(1,6)\n",
    "    print(\"el lanzamiento del dado es:\".format(num))\n",
    "    return num"
   ]
  },
  {
   "cell_type": "code",
   "execution_count": 34,
   "id": "c1b48823",
   "metadata": {},
   "outputs": [
    {
     "name": "stdout",
     "output_type": "stream",
     "text": [
      "el lanzamiento del dado es:\n"
     ]
    },
    {
     "data": {
      "text/plain": [
       "5"
      ]
     },
     "execution_count": 34,
     "metadata": {},
     "output_type": "execute_result"
    }
   ],
   "source": [
    "dado()"
   ]
  },
  {
   "cell_type": "code",
   "execution_count": 35,
   "id": "e7941f33",
   "metadata": {},
   "outputs": [],
   "source": [
    "m= lambda x:x*5000"
   ]
  },
  {
   "cell_type": "code",
   "execution_count": 39,
   "id": "57e1c0de",
   "metadata": {},
   "outputs": [
    {
     "ename": "SyntaxError",
     "evalue": "invalid syntax (Temp/ipykernel_4452/1489671145.py, line 3)",
     "output_type": "error",
     "traceback": [
      "\u001b[1;36m  File \u001b[1;32m\"C:\\Users\\JUANBE~1\\AppData\\Local\\Temp/ipykernel_4452/1489671145.py\"\u001b[1;36m, line \u001b[1;32m3\u001b[0m\n\u001b[1;33m    if apuesta > 5000:\u001b[0m\n\u001b[1;37m                     ^\u001b[0m\n\u001b[1;31mSyntaxError\u001b[0m\u001b[1;31m:\u001b[0m invalid syntax\n"
     ]
    }
   ],
   "source": [
    "def dinero():\n",
    "    apuesta = int(input(\"Ingrese apuesta: \")\n",
    "    if apuesta > 5000:\n",
    "        print(\"apuesta es {}\".format(m))\n",
    "    else:\n",
    "        print(\"el valor debe ser aceptable\")"
   ]
  },
  {
   "cell_type": "code",
   "execution_count": 26,
   "id": "8f2dd0bf",
   "metadata": {},
   "outputs": [
    {
     "data": {
      "text/plain": [
       "15000"
      ]
     },
     "execution_count": 26,
     "metadata": {},
     "output_type": "execute_result"
    }
   ],
   "source": [
    "m(3)"
   ]
  },
  {
   "cell_type": "code",
   "execution_count": null,
   "id": "54ba5732",
   "metadata": {},
   "outputs": [],
   "source": []
  }
 ],
 "metadata": {
  "kernelspec": {
   "display_name": "Python 3 (ipykernel)",
   "language": "python",
   "name": "python3"
  },
  "language_info": {
   "codemirror_mode": {
    "name": "ipython",
    "version": 3
   },
   "file_extension": ".py",
   "mimetype": "text/x-python",
   "name": "python",
   "nbconvert_exporter": "python",
   "pygments_lexer": "ipython3",
   "version": "3.9.7"
  }
 },
 "nbformat": 4,
 "nbformat_minor": 5
}
