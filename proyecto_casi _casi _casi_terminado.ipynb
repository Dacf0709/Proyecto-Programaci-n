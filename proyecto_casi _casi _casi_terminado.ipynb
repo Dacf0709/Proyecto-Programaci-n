{
 "cells": [
  {
   "cell_type": "code",
   "execution_count": 78,
   "id": "05aa9e16",
   "metadata": {},
   "outputs": [],
   "source": [
    "import random "
   ]
  },
  {
   "cell_type": "code",
   "execution_count": 79,
   "id": "eeda64c1",
   "metadata": {},
   "outputs": [],
   "source": [
    "import time"
   ]
  },
  {
   "cell_type": "markdown",
   "id": "ec83ac64",
   "metadata": {},
   "source": [
    "# reglas del juego"
   ]
  },
  {
   "cell_type": "code",
   "execution_count": 3,
   "id": "914422a4",
   "metadata": {},
   "outputs": [
    {
     "name": "stdout",
     "output_type": "stream",
     "text": [
      "Regla 1:\n",
      "    para iniciar el juego, los jugadores deberan acordar una couta de entrada a la mesa, esta sera de minimo 5000 \n",
      "    COP sin limite maximo. Este valor fijado al comienzo del juego se usara como minimo de apuesta y dichas apuestas \n",
      "    deberan ser multiplos de este valor acorado.\n",
      "    ____\n",
      "    \n",
      "    Regla 2: El casino recibira 5% del acumulado por cada retiro de los usuarios.\n",
      "    \n",
      "    ____\n",
      "    \n",
      "    Regla 3: El juego tendra como maximo 5 jugadores, este acabara cuando el acumulado de la mesa se quede sin dinero.\n",
      "    ____\n",
      "    \n",
      "    Reglas de juego:\n",
      "    \n",
      "    Al lanzar el dado, si el resultado del dado es 1 el jugador pierde y debera\n",
      "    pagar el minimo de apuesta acordado al comienzo del juego.\n",
      "    ____\n",
      "    \n",
      "    Si el resultado del dado es 2,3,4 o 5 el jugador debera apostar\n",
      "    por multiplos de la apuesta acordada al comienzo del juego, el siguiente tiro de el dado debe ser mayor \n",
      "    al primer valor sacado en el dado, por ejemplo si el primer tiro es dos, el siguiente tiro tiene que ser mayor a dos\n",
      "    para que este gane lo que aposto. \n",
      "    ____\n",
      "    \n",
      "    Finalmente si el resultado del dado es 6, el jugador ganara el valor minimo de la apuesta al instante.\n",
      "    ____\n",
      "    \n",
      "    \n"
     ]
    }
   ],
   "source": [
    "def reglas ():\n",
    "    print(\"\"\"Regla 1:\n",
    "    para iniciar el juego, los jugadores deberan acordar una couta de entrada a la mesa, esta sera de minimo 5000 \n",
    "    COP sin limite maximo. Este valor fijado al comienzo del juego se usara como minimo de apuesta y dichas apuestas \n",
    "    deberan ser multiplos de este valor acorado.\n",
    "    ____\n",
    "    \n",
    "    Regla 2: El casino recibira 5% del acumulado por cada retiro de los usuarios.\n",
    "    \n",
    "    ____\n",
    "    \n",
    "    Regla 3: El juego tendra como maximo 5 jugadores, este acabara cuando el acumulado de la mesa se quede sin dinero.\n",
    "    ____\n",
    "    \n",
    "    Reglas de juego:\n",
    "    \n",
    "    Al lanzar el dado, si el resultado del dado es 1 el jugador pierde y debera\n",
    "    pagar el minimo de apuesta acordado al comienzo del juego.\n",
    "    ____\n",
    "    \n",
    "    Si el resultado del dado es 2,3,4 o 5 el jugador debera apostar\n",
    "    por multiplos de la apuesta acordada al comienzo del juego, el siguiente tiro de el dado debe ser mayor \n",
    "    al primer valor sacado en el dado, por ejemplo si el primer tiro es dos, el siguiente tiro tiene que ser mayor a dos\n",
    "    para que este gane lo que aposto. \n",
    "    ____\n",
    "    \n",
    "    Finalmente si el resultado del dado es 6, el jugador ganara el valor minimo de la apuesta al instante.\n",
    "    ____\n",
    "    \n",
    "    \"\"\")\n",
    "reglas()"
   ]
  },
  {
   "cell_type": "code",
   "execution_count": 4,
   "id": "5b56511a",
   "metadata": {},
   "outputs": [
    {
     "name": "stdout",
     "output_type": "stream",
     "text": [
      "digite el numero de jugadores,recuerde que deben haber maximo 5 jugadores y minimo 2: \n"
     ]
    },
    {
     "ename": "ValueError",
     "evalue": "invalid literal for int() with base 10: ''",
     "output_type": "error",
     "traceback": [
      "\u001b[1;31m---------------------------------------------------------------------------\u001b[0m",
      "\u001b[1;31mValueError\u001b[0m                                Traceback (most recent call last)",
      "\u001b[1;32m~\\AppData\\Local\\Temp/ipykernel_4108/1959425107.py\u001b[0m in \u001b[0;36m<module>\u001b[1;34m\u001b[0m\n\u001b[0;32m     21\u001b[0m         \u001b[0mprint\u001b[0m\u001b[1;33m(\u001b[0m\u001b[1;34m\"El jugador\"\u001b[0m\u001b[1;33m,\u001b[0m \u001b[0mNombreXD\u001b[0m\u001b[1;33m,\u001b[0m \u001b[1;34m\"Esta registrado\"\u001b[0m\u001b[1;33m)\u001b[0m\u001b[1;33m\u001b[0m\u001b[1;33m\u001b[0m\u001b[0m\n\u001b[0;32m     22\u001b[0m \u001b[1;33m\u001b[0m\u001b[0m\n\u001b[1;32m---> 23\u001b[1;33m \u001b[0mnombre_jugadores\u001b[0m\u001b[1;33m(\u001b[0m\u001b[1;33m)\u001b[0m\u001b[1;33m\u001b[0m\u001b[1;33m\u001b[0m\u001b[0m\n\u001b[0m",
      "\u001b[1;32m~\\AppData\\Local\\Temp/ipykernel_4108/1959425107.py\u001b[0m in \u001b[0;36mnombre_jugadores\u001b[1;34m()\u001b[0m\n\u001b[0;32m     15\u001b[0m \u001b[1;32mdef\u001b[0m \u001b[0mnombre_jugadores\u001b[0m\u001b[1;33m(\u001b[0m\u001b[1;33m)\u001b[0m\u001b[1;33m:\u001b[0m\u001b[1;33m\u001b[0m\u001b[1;33m\u001b[0m\u001b[0m\n\u001b[0;32m     16\u001b[0m     \u001b[1;32mglobal\u001b[0m \u001b[0mnombre_jugador\u001b[0m\u001b[1;33m\u001b[0m\u001b[1;33m\u001b[0m\u001b[0m\n\u001b[1;32m---> 17\u001b[1;33m     \u001b[1;32mfor\u001b[0m \u001b[0mi\u001b[0m \u001b[1;32min\u001b[0m \u001b[0mrange\u001b[0m\u001b[1;33m(\u001b[0m\u001b[0mjuego\u001b[0m\u001b[1;33m(\u001b[0m\u001b[1;33m)\u001b[0m\u001b[1;33m)\u001b[0m\u001b[1;33m:\u001b[0m\u001b[1;33m\u001b[0m\u001b[1;33m\u001b[0m\u001b[0m\n\u001b[0m\u001b[0;32m     18\u001b[0m         \u001b[0mprint\u001b[0m\u001b[1;33m(\u001b[0m\u001b[1;34m\"jugador #\"\u001b[0m\u001b[1;33m,\u001b[0m \u001b[0mstr\u001b[0m\u001b[1;33m(\u001b[0m\u001b[0mi\u001b[0m\u001b[1;33m+\u001b[0m\u001b[1;36m1\u001b[0m\u001b[1;33m)\u001b[0m \u001b[1;33m+\u001b[0m \u001b[1;34m\" por favor ingrese su nombre :\"\u001b[0m\u001b[1;33m)\u001b[0m\u001b[1;33m\u001b[0m\u001b[1;33m\u001b[0m\u001b[0m\n\u001b[0;32m     19\u001b[0m         \u001b[0mNombreXD\u001b[0m \u001b[1;33m=\u001b[0m \u001b[0minput\u001b[0m\u001b[1;33m(\u001b[0m\u001b[1;34m\"\"\u001b[0m\u001b[1;33m)\u001b[0m\u001b[1;33m\u001b[0m\u001b[1;33m\u001b[0m\u001b[0m\n",
      "\u001b[1;32m~\\AppData\\Local\\Temp/ipykernel_4108/1959425107.py\u001b[0m in \u001b[0;36mjuego\u001b[1;34m()\u001b[0m\n\u001b[0;32m      5\u001b[0m     \u001b[0mjugadores\u001b[0m\u001b[1;33m=\u001b[0m\u001b[1;36m0\u001b[0m\u001b[1;33m\u001b[0m\u001b[1;33m\u001b[0m\u001b[0m\n\u001b[0;32m      6\u001b[0m     \u001b[1;32mwhile\u001b[0m \u001b[1;32mTrue\u001b[0m\u001b[1;33m:\u001b[0m\u001b[1;33m\u001b[0m\u001b[1;33m\u001b[0m\u001b[0m\n\u001b[1;32m----> 7\u001b[1;33m         \u001b[0mjugadores\u001b[0m\u001b[1;33m=\u001b[0m\u001b[0mint\u001b[0m\u001b[1;33m(\u001b[0m\u001b[0minput\u001b[0m\u001b[1;33m(\u001b[0m\u001b[1;34m\"digite el numero de jugadores,recuerde que deben haber maximo 5 jugadores y minimo 2: \"\u001b[0m\u001b[1;33m)\u001b[0m\u001b[1;33m)\u001b[0m\u001b[1;33m\u001b[0m\u001b[1;33m\u001b[0m\u001b[0m\n\u001b[0m\u001b[0;32m      8\u001b[0m         \u001b[1;32mif\u001b[0m \u001b[1;33m(\u001b[0m\u001b[0mjugadores\u001b[0m\u001b[1;33m>=\u001b[0m\u001b[1;36m2\u001b[0m \u001b[1;32mand\u001b[0m \u001b[0mjugadores\u001b[0m\u001b[1;33m<=\u001b[0m\u001b[1;36m5\u001b[0m\u001b[1;33m)\u001b[0m\u001b[1;33m:\u001b[0m\u001b[1;33m\u001b[0m\u001b[1;33m\u001b[0m\u001b[0m\n\u001b[0;32m      9\u001b[0m             \u001b[0mprint\u001b[0m\u001b[1;33m(\u001b[0m\u001b[1;34m\"se han elegido {} jugadores\"\u001b[0m\u001b[1;33m.\u001b[0m\u001b[0mformat\u001b[0m\u001b[1;33m(\u001b[0m\u001b[0mjugadores\u001b[0m\u001b[1;33m)\u001b[0m\u001b[1;33m)\u001b[0m\u001b[1;33m\u001b[0m\u001b[1;33m\u001b[0m\u001b[0m\n",
      "\u001b[1;31mValueError\u001b[0m: invalid literal for int() with base 10: ''"
     ]
    }
   ],
   "source": [
    "maximo_jugadores=5\n",
    "ganador=False\n",
    "nombre_jugador=[]\n",
    "def juego():\n",
    "    jugadores=0\n",
    "    while True:\n",
    "        jugadores=int(input(\"digite el numero de jugadores,recuerde que deben haber maximo 5 jugadores y minimo 2: \"))\n",
    "        if (jugadores>=2 and jugadores<=5):\n",
    "            print(\"se han elegido {} jugadores\".format(jugadores))\n",
    "            return jugadores          \n",
    "            break\n",
    "        else:\n",
    "            print(\"digite una opcion valida de jugadores\")\n",
    "    \n",
    "def nombre_jugadores():\n",
    "    global nombre_jugador\n",
    "    for i in range(juego()):\n",
    "        print(\"jugador #\", str(i+1) + \" por favor ingrese su nombre :\")\n",
    "        NombreXD = input(\"\")\n",
    "        nombre_jugador.append([NombreXD, 10000, 0])\n",
    "        print(\"El jugador\", NombreXD, \"Esta registrado\")\n",
    "        \n",
    "nombre_jugadores()"
   ]
  },
  {
   "cell_type": "code",
   "execution_count": 5,
   "id": "642da96a",
   "metadata": {},
   "outputs": [
    {
     "name": "stdout",
     "output_type": "stream",
     "text": [
      "Digite el valor inicial de la apuesta: 123123\n",
      "El valor de la apuesta 123123 es valido\n"
     ]
    },
    {
     "data": {
      "text/plain": [
       "123123"
      ]
     },
     "execution_count": 5,
     "metadata": {},
     "output_type": "execute_result"
    }
   ],
   "source": [
    "def Apuesta_inicial():\n",
    "    x=0\n",
    "    while True:\n",
    "        x=int(input(\"Digite el valor inicial de la apuesta: \"))\n",
    "        y=[x*i for i in range(5001)]\n",
    "        if x>=4999:\n",
    "            if x in y:\n",
    "                print('El valor de la apuesta', x, 'es valido')\n",
    "            elif x not in y:\n",
    "                print(\"Ingrese un valor valido\")\n",
    "            return x\n",
    "            break\n",
    "        else:\n",
    "            print(\"Digite un valor valido a apostar\")\n",
    "Apuesta_inicial()"
   ]
  },
  {
   "cell_type": "code",
   "execution_count": 6,
   "id": "0ec95a44",
   "metadata": {},
   "outputs": [],
   "source": [
    "def acumulado():\n",
    "    asd= Apuesta_inicial()*juego()\n",
    "    return asd"
   ]
  },
  {
   "cell_type": "code",
   "execution_count": 15,
   "id": "60639934",
   "metadata": {},
   "outputs": [
    {
     "name": "stdout",
     "output_type": "stream",
     "text": [
      "Digite el valor inicial de la apuesta: \n"
     ]
    },
    {
     "ename": "ValueError",
     "evalue": "invalid literal for int() with base 10: ''",
     "output_type": "error",
     "traceback": [
      "\u001b[1;31m---------------------------------------------------------------------------\u001b[0m",
      "\u001b[1;31mValueError\u001b[0m                                Traceback (most recent call last)",
      "\u001b[1;32m~\\AppData\\Local\\Temp/ipykernel_4108/2065745162.py\u001b[0m in \u001b[0;36m<module>\u001b[1;34m\u001b[0m\n\u001b[1;32m----> 1\u001b[1;33m \u001b[0macumulado\u001b[0m\u001b[1;33m(\u001b[0m\u001b[1;33m)\u001b[0m\u001b[1;33m\u001b[0m\u001b[1;33m\u001b[0m\u001b[0m\n\u001b[0m",
      "\u001b[1;32m~\\AppData\\Local\\Temp/ipykernel_4108/3036893628.py\u001b[0m in \u001b[0;36macumulado\u001b[1;34m()\u001b[0m\n\u001b[0;32m      1\u001b[0m \u001b[1;32mdef\u001b[0m \u001b[0macumulado\u001b[0m\u001b[1;33m(\u001b[0m\u001b[1;33m)\u001b[0m\u001b[1;33m:\u001b[0m\u001b[1;33m\u001b[0m\u001b[1;33m\u001b[0m\u001b[0m\n\u001b[1;32m----> 2\u001b[1;33m     \u001b[0masd\u001b[0m\u001b[1;33m=\u001b[0m \u001b[0mApuesta_inicial\u001b[0m\u001b[1;33m(\u001b[0m\u001b[1;33m)\u001b[0m\u001b[1;33m*\u001b[0m\u001b[0mjuego\u001b[0m\u001b[1;33m(\u001b[0m\u001b[1;33m)\u001b[0m\u001b[1;33m\u001b[0m\u001b[1;33m\u001b[0m\u001b[0m\n\u001b[0m\u001b[0;32m      3\u001b[0m     \u001b[1;32mreturn\u001b[0m \u001b[0masd\u001b[0m\u001b[1;33m\u001b[0m\u001b[1;33m\u001b[0m\u001b[0m\n",
      "\u001b[1;32m~\\AppData\\Local\\Temp/ipykernel_4108/2948613275.py\u001b[0m in \u001b[0;36mApuesta_inicial\u001b[1;34m()\u001b[0m\n\u001b[0;32m      2\u001b[0m     \u001b[0mx\u001b[0m\u001b[1;33m=\u001b[0m\u001b[1;36m0\u001b[0m\u001b[1;33m\u001b[0m\u001b[1;33m\u001b[0m\u001b[0m\n\u001b[0;32m      3\u001b[0m     \u001b[1;32mwhile\u001b[0m \u001b[1;32mTrue\u001b[0m\u001b[1;33m:\u001b[0m\u001b[1;33m\u001b[0m\u001b[1;33m\u001b[0m\u001b[0m\n\u001b[1;32m----> 4\u001b[1;33m         \u001b[0mx\u001b[0m\u001b[1;33m=\u001b[0m\u001b[0mint\u001b[0m\u001b[1;33m(\u001b[0m\u001b[0minput\u001b[0m\u001b[1;33m(\u001b[0m\u001b[1;34m\"Digite el valor inicial de la apuesta: \"\u001b[0m\u001b[1;33m)\u001b[0m\u001b[1;33m)\u001b[0m\u001b[1;33m\u001b[0m\u001b[1;33m\u001b[0m\u001b[0m\n\u001b[0m\u001b[0;32m      5\u001b[0m         \u001b[0my\u001b[0m\u001b[1;33m=\u001b[0m\u001b[1;33m[\u001b[0m\u001b[0mx\u001b[0m\u001b[1;33m*\u001b[0m\u001b[0mi\u001b[0m \u001b[1;32mfor\u001b[0m \u001b[0mi\u001b[0m \u001b[1;32min\u001b[0m \u001b[0mrange\u001b[0m\u001b[1;33m(\u001b[0m\u001b[1;36m5001\u001b[0m\u001b[1;33m)\u001b[0m\u001b[1;33m]\u001b[0m\u001b[1;33m\u001b[0m\u001b[1;33m\u001b[0m\u001b[0m\n\u001b[0;32m      6\u001b[0m         \u001b[1;32mif\u001b[0m \u001b[0mx\u001b[0m\u001b[1;33m>=\u001b[0m\u001b[1;36m4999\u001b[0m\u001b[1;33m:\u001b[0m\u001b[1;33m\u001b[0m\u001b[1;33m\u001b[0m\u001b[0m\n",
      "\u001b[1;31mValueError\u001b[0m: invalid literal for int() with base 10: ''"
     ]
    }
   ],
   "source": [
    "acumulado()"
   ]
  },
  {
   "cell_type": "code",
   "execution_count": 16,
   "id": "2de2472c",
   "metadata": {},
   "outputs": [],
   "source": [
    "def retiro_casino():\n",
    "    h=int(acumulado())\n",
    "    z=h*0.05\n",
    "    f=h-z\n",
    "    print(\"El casino se queda con: \",z)\n",
    "    print(\"Queda en la mesa \",f)\n",
    "    return f"
   ]
  },
  {
   "cell_type": "code",
   "execution_count": 18,
   "id": "fbe0a6fb",
   "metadata": {},
   "outputs": [
    {
     "name": "stdout",
     "output_type": "stream",
     "text": [
      "Digite el valor inicial de la apuesta: 11111\n",
      "El valor de la apuesta 11111 es valido\n",
      "digite el numero de jugadores,recuerde que deben haber maximo 5 jugadores y minimo 2: 2\n",
      "se han elegido 2 jugadores\n",
      "El casino se queda con:  1111.1000000000001\n",
      "Queda en la mesa  21110.9\n"
     ]
    },
    {
     "data": {
      "text/plain": [
       "21110.9"
      ]
     },
     "execution_count": 18,
     "metadata": {},
     "output_type": "execute_result"
    }
   ],
   "source": [
    "retiro_casino()"
   ]
  },
  {
   "cell_type": "code",
   "execution_count": 102,
   "id": "ed50ce4c",
   "metadata": {},
   "outputs": [
    {
     "name": "stdout",
     "output_type": "stream",
     "text": [
      "el resultado del dado es 4\n"
     ]
    },
    {
     "data": {
      "text/plain": [
       "4"
      ]
     },
     "execution_count": 102,
     "metadata": {},
     "output_type": "execute_result"
    }
   ],
   "source": [
    "def dado():\n",
    "    xd = random.randint(1,6)\n",
    "    print (\"el resultado del dado es\",xd)\n",
    "    return xd\n",
    "dado()"
   ]
  },
  {
   "cell_type": "code",
   "execution_count": 75,
   "id": "94fe8862",
   "metadata": {},
   "outputs": [],
   "source": [
    "def eldado():\n",
    "    x = dado()\n",
    "    if x==1:\n",
    "        print(x,\"perdio\")\n",
    "    if x in [2,3,4,5]:\n",
    "        print(x,\"debe de apostar\")\n",
    "    if x==6:\n",
    "        print(x,\"gano\")"
   ]
  },
  {
   "cell_type": "code",
   "execution_count": 28,
   "id": "be7f0e5a",
   "metadata": {},
   "outputs": [
    {
     "name": "stdout",
     "output_type": "stream",
     "text": [
      "el lanzamiento del dado es:\n",
      "4 debe de apostar\n"
     ]
    }
   ],
   "source": [
    "eldado()"
   ]
  },
  {
   "cell_type": "code",
   "execution_count": 61,
   "id": "ab87a565",
   "metadata": {},
   "outputs": [],
   "source": [
    "def Apuesta_inicial():\n",
    "    x=0\n",
    "    while True:\n",
    "        x=int(input(\"Digite el valor inicial de la apuesta: \"))\n",
    "        y=[x*i for i in range(5001)]\n",
    "        if x>4999:\n",
    "            if x in y:\n",
    "                print('El valor de la apuesta', x, 'es valido')\n",
    "            elif x not in y:\n",
    "                print(\"Ingrese un valor valido\")\n",
    "            return x\n",
    "            break\n",
    "        else:\n",
    "            print(\"Digite un valor valido a apostar\")\n",
    "    def acumulado():\n",
    "        asd= Apuesta_inicial()*juego()\n",
    "        return asd\n",
    "    def retirosjug():\n",
    "        mjds= eldado()\n",
    "        if mjds == 1:\n",
    "            print(\"ingrese \", Apuesta_inicial(),\" a el acumulado\")\n",
    "            alp= Apuesta_inicial()+ acumulado()\n",
    "        if mjds == 6:\n",
    "            print(\"retire el valor apostado inicialmente\")\n",
    "            lmd= Acumulado()-Apuesta_inicial()\n",
    "            print(\"queda \",lmd ,\" en el acumulado\")"
   ]
  },
  {
   "cell_type": "code",
   "execution_count": 84,
   "id": "c0dcea4a",
   "metadata": {},
   "outputs": [
    {
     "name": "stdout",
     "output_type": "stream",
     "text": [
      "Digite el valor inicial de la apuesta: 50000\n",
      "El valor de la apuesta 50000 es valido\n"
     ]
    },
    {
     "data": {
      "text/plain": [
       "50000"
      ]
     },
     "execution_count": 84,
     "metadata": {},
     "output_type": "execute_result"
    }
   ],
   "source": [
    "Apuesta_inicial()"
   ]
  },
  {
   "cell_type": "code",
   "execution_count": 137,
   "id": "e16751fb",
   "metadata": {},
   "outputs": [],
   "source": [
    "def retirosjug():\n",
    "    delt= int(Apuesta_inicial())\n",
    "    pool= int(acumulado())\n",
    "    mjds= int(dado())\n",
    "    print(mjds)\n",
    "    if mjds == 1:\n",
    "        print(\"pague \", delt,\" a el acumulado\")\n",
    "        alp= delt+ pool\n",
    "        return print(\"queda\", alp,\" en el acumulado\")\n",
    "    if mjds == 6:\n",
    "        print(\"retire el valor apostado inicialmente\")\n",
    "        lmd= pool-delt\n",
    "        return print(\"queda \",lmd ,\" en el acumulado\")\n",
    "    if mjds in [2,3,4,5]:\n",
    "        tit= int(input(\"apueste por multiplos: \"))\n",
    "        uncool= tit*delt\n",
    "        time.sleep(2)\n",
    "        msdk= int(dado())\n",
    "        if msdk>mjds:\n",
    "            new_pool= pool-tit\n",
    "        return print(\"Tenemos un ganador! quedan en el acumulado\",new_pool)\n",
    "        if msdk<mjds:\n",
    "            newnewpool= pool+tit\n",
    "        return print(\"Ha perdido! quedan en el acumulado\", newnewpool)"
   ]
  },
  {
   "cell_type": "code",
   "execution_count": 138,
   "id": "a4417ca0",
   "metadata": {},
   "outputs": [
    {
     "name": "stdout",
     "output_type": "stream",
     "text": [
      "Digite el valor inicial de la apuesta: 50000\n",
      "El valor de la apuesta 50000 es valido\n",
      "Digite el valor inicial de la apuesta: 50000\n",
      "El valor de la apuesta 50000 es valido\n",
      "digite el numero de jugadores,recuerde que deben haber maximo 5 jugadores y minimo 2: 2\n",
      "se han elegido 2 jugadores\n",
      "el resultado del dado es 5\n",
      "5\n",
      "apueste por multiplos: 1\n",
      "el resultado del dado es 5\n"
     ]
    },
    {
     "ename": "UnboundLocalError",
     "evalue": "local variable 'new_pool' referenced before assignment",
     "output_type": "error",
     "traceback": [
      "\u001b[1;31m---------------------------------------------------------------------------\u001b[0m",
      "\u001b[1;31mUnboundLocalError\u001b[0m                         Traceback (most recent call last)",
      "\u001b[1;32m~\\AppData\\Local\\Temp/ipykernel_4108/2888441817.py\u001b[0m in \u001b[0;36m<module>\u001b[1;34m\u001b[0m\n\u001b[1;32m----> 1\u001b[1;33m \u001b[0mretirosjug\u001b[0m\u001b[1;33m(\u001b[0m\u001b[1;33m)\u001b[0m\u001b[1;33m\u001b[0m\u001b[1;33m\u001b[0m\u001b[0m\n\u001b[0m",
      "\u001b[1;32m~\\AppData\\Local\\Temp/ipykernel_4108/2928525794.py\u001b[0m in \u001b[0;36mretirosjug\u001b[1;34m()\u001b[0m\n\u001b[0;32m     19\u001b[0m         \u001b[1;32mif\u001b[0m \u001b[0mmsdk\u001b[0m\u001b[1;33m>\u001b[0m\u001b[0mmjds\u001b[0m\u001b[1;33m:\u001b[0m\u001b[1;33m\u001b[0m\u001b[1;33m\u001b[0m\u001b[0m\n\u001b[0;32m     20\u001b[0m             \u001b[0mnew_pool\u001b[0m\u001b[1;33m=\u001b[0m \u001b[0mpool\u001b[0m\u001b[1;33m-\u001b[0m\u001b[0mtit\u001b[0m\u001b[1;33m\u001b[0m\u001b[1;33m\u001b[0m\u001b[0m\n\u001b[1;32m---> 21\u001b[1;33m         \u001b[1;32mreturn\u001b[0m \u001b[0mprint\u001b[0m\u001b[1;33m(\u001b[0m\u001b[1;34m\"Tenemos un ganador! quedan en el acumulado\"\u001b[0m\u001b[1;33m,\u001b[0m\u001b[0mnew_pool\u001b[0m\u001b[1;33m)\u001b[0m\u001b[1;33m\u001b[0m\u001b[1;33m\u001b[0m\u001b[0m\n\u001b[0m\u001b[0;32m     22\u001b[0m         \u001b[1;32mif\u001b[0m \u001b[0mmsdk\u001b[0m\u001b[1;33m<\u001b[0m\u001b[0mmjds\u001b[0m\u001b[1;33m:\u001b[0m\u001b[1;33m\u001b[0m\u001b[1;33m\u001b[0m\u001b[0m\n\u001b[0;32m     23\u001b[0m             \u001b[0mnewnewpool\u001b[0m\u001b[1;33m=\u001b[0m \u001b[0mpool\u001b[0m\u001b[1;33m+\u001b[0m\u001b[0mtit\u001b[0m\u001b[1;33m\u001b[0m\u001b[1;33m\u001b[0m\u001b[0m\n",
      "\u001b[1;31mUnboundLocalError\u001b[0m: local variable 'new_pool' referenced before assignment"
     ]
    }
   ],
   "source": [
    "retirosjug()"
   ]
  },
  {
   "cell_type": "code",
   "execution_count": null,
   "id": "39a89a44",
   "metadata": {},
   "outputs": [],
   "source": []
  }
 ],
 "metadata": {
  "kernelspec": {
   "display_name": "Python 3 (ipykernel)",
   "language": "python",
   "name": "python3"
  },
  "language_info": {
   "codemirror_mode": {
    "name": "ipython",
    "version": 3
   },
   "file_extension": ".py",
   "mimetype": "text/x-python",
   "name": "python",
   "nbconvert_exporter": "python",
   "pygments_lexer": "ipython3",
   "version": "3.9.7"
  }
 },
 "nbformat": 4,
 "nbformat_minor": 5
}
