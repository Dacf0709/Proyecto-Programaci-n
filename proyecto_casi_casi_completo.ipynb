{
 "cells": [
  {
   "cell_type": "code",
   "execution_count": 10,
   "metadata": {},
   "outputs": [],
   "source": [
    "import random "
   ]
  },
  {
   "cell_type": "code",
   "execution_count": 11,
   "metadata": {},
   "outputs": [],
   "source": [
    "\n",
    "maximo_jugadores=5\n",
    "ganador=False\n",
    "nombre_jugador=[]"
   ]
  },
  {
   "cell_type": "code",
   "execution_count": 12,
   "metadata": {},
   "outputs": [],
   "source": [
    "def juego():\n",
    "    jugadores=0\n",
    "    while True:\n",
    "        jugadores=int(input(\"digite el numero de jugadores,recuerde que deben haber maximo 5 jugadores y minimo 2: \"))\n",
    "        if (jugadores>=2 and jugadores<=5):\n",
    "            print(\"se han elegido {} jugadores\".format(jugadores))\n",
    "            return jugadores\n",
    "           \n",
    "            break\n",
    "        else:\n",
    "            print(\"digite una opcion valida de jugadores\")"
   ]
  },
  {
   "cell_type": "code",
   "execution_count": 13,
   "metadata": {},
   "outputs": [],
   "source": [
    "def nombre_jugadores():\n",
    "    global nombre_jugador\n",
    "    for i in range(juego()):\n",
    "        print(\"jugador #\", str(i+1) + \" por favor ingrese su nombre :\")\n",
    "        NombreXD = input(\"\")\n",
    "        nombre_jugador.append([NombreXD, 10000, 0])\n",
    "        print(\"El jugador\", NombreXD, \"Esta registrado\")\n"
   ]
  },
  {
   "cell_type": "code",
   "execution_count": 15,
   "metadata": {},
   "outputs": [
    {
     "name": "stdout",
     "output_type": "stream",
     "text": [
      "digite el numero de jugadores,recuerde que deben haber maximo 5 jugadores y minimo 2: 3\n",
      "se han elegido 3 jugadores\n",
      "jugador # 1 por favor ingrese su nombre :\n",
      "d\n",
      "El jugador d Esta registrado\n",
      "jugador # 2 por favor ingrese su nombre :\n",
      "d\n",
      "El jugador d Esta registrado\n",
      "jugador # 3 por favor ingrese su nombre :\n",
      "d\n",
      "El jugador d Esta registrado\n"
     ]
    }
   ],
   "source": [
    "nombre_jugadores()"
   ]
  },
  {
   "cell_type": "code",
   "execution_count": 16,
   "metadata": {},
   "outputs": [],
   "source": [
    "def dado():\n",
    "    xd = random.randint(1,6)\n",
    "    print(\"el lanzamiento del dado es:\".format(xd))\n",
    "    return xd"
   ]
  },
  {
   "cell_type": "code",
   "execution_count": 17,
   "metadata": {},
   "outputs": [
    {
     "name": "stdout",
     "output_type": "stream",
     "text": [
      "el lanzamiento del dado es:\n"
     ]
    },
    {
     "data": {
      "text/plain": [
       "4"
      ]
     },
     "execution_count": 17,
     "metadata": {},
     "output_type": "execute_result"
    }
   ],
   "source": [
    "dado()"
   ]
  },
  {
   "cell_type": "code",
   "execution_count": 24,
   "metadata": {},
   "outputs": [],
   "source": [
    "def eldado():\n",
    "    x = dado()\n",
    "    if x==1:\n",
    "        print(x,\"perdio\")\n",
    "    if x in [2,3,4,5]:\n",
    "        print(x,\"debe de poner el case\")\n",
    "    if x==6:\n",
    "        print(x,\"gano\")\n",
    "        "
   ]
  },
  {
   "cell_type": "code",
   "execution_count": 31,
   "metadata": {},
   "outputs": [
    {
     "name": "stdout",
     "output_type": "stream",
     "text": [
      "el lanzamiento del dado es:\n",
      "2 debe de poner el case\n"
     ]
    }
   ],
   "source": [
    "eldado()"
   ]
  },
  {
   "cell_type": "code",
   "execution_count": 14,
   "metadata": {},
   "outputs": [],
   "source": [
    "def Apuesta_inicial():\n",
    "    x=0\n",
    "    while True:\n",
    "        x=int(input(\"Digite el valor inicial de la apuesta: \"))\n",
    "        y=[x*i for i in range(5001)]\n",
    "        if x>=4999:\n",
    "            if x in y:\n",
    "                print('El valor de la apuesta', x, 'es valido')\n",
    "            elif x not in y:\n",
    "                print(\"Ingrese un valor valido\")\n",
    "            return x\n",
    "            break\n",
    "        else:\n",
    "            print(\"Digite un valor valido a apostar\")"
   ]
  },
  {
   "cell_type": "code",
   "execution_count": null,
   "metadata": {
    "scrolled": true
   },
   "outputs": [
    {
     "name": "stdout",
     "output_type": "stream",
     "text": [
      "Digite el valor inicial de la apuesta: 3\n",
      "Digite un valor valido a apostar\n"
     ]
    }
   ],
   "source": [
    "Apuesta_inicial()\n",
    "nombre_jugadores()"
   ]
  },
  {
   "cell_type": "code",
   "execution_count": null,
   "metadata": {},
   "outputs": [],
   "source": []
  }
 ],
 "metadata": {
  "kernelspec": {
   "display_name": "Python 3",
   "language": "python",
   "name": "python3"
  },
  "language_info": {
   "codemirror_mode": {
    "name": "ipython",
    "version": 3
   },
   "file_extension": ".py",
   "mimetype": "text/x-python",
   "name": "python",
   "nbconvert_exporter": "python",
   "pygments_lexer": "ipython3",
   "version": "3.7.10"
  }
 },
 "nbformat": 4,
 "nbformat_minor": 5
}
