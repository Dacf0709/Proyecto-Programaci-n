{
 "cells": [
  {
   "cell_type": "code",
   "execution_count": 23,
   "id": "a4f77e39",
   "metadata": {},
   "outputs": [],
   "source": [
    "import random\n",
    "import time"
   ]
  },
  {
   "cell_type": "code",
   "execution_count": 24,
   "id": "7394e5ff",
   "metadata": {},
   "outputs": [
    {
     "name": "stdout",
     "output_type": "stream",
     "text": [
      "Regla 1:\n",
      "    para iniciar el juego, los jugadores deberan acordar una couta de entrada a la mesa, esta sera de minimo 5000 \n",
      "    COP sin limite maximo. Este valor fijado al comienzo del juego se usara como minimo de apuesta y dichas apuestas \n",
      "    deberan ser multiplos de este valor acorado.\n",
      "    ____\n",
      "    \n",
      "    Regla 2: El casino recibira 5% del acumulado por cada retiro de los usuarios.\n",
      "    \n",
      "    ____\n",
      "    \n",
      "    Regla 3: El juego tendra como maximo 5 jugadores, este acabara cuando el acumulado de la mesa se quede sin dinero.\n",
      "    ____\n",
      "    \n",
      "    Reglas de juego:\n",
      "    \n",
      "    Al lanzar el dado, si el resultado del dado es 1 el jugador pierde y debera\n",
      "    pagar el minimo de apuesta acordado al comienzo del juego.\n",
      "    ____\n",
      "    \n",
      "    Si el resultado del dado es 2,3,4 o 5 el jugador debera apostar\n",
      "    por multiplos de la apuesta acordada al comienzo del juego, el siguiente tiro de el dado debe ser mayor \n",
      "    al primer valor sacado en el dado, por ejemplo si el primer tiro es dos, el siguiente tiro tiene que ser mayor a dos\n",
      "    para que este gane lo que aposto. \n",
      "    ____\n",
      "    \n",
      "    Finalmente si el resultado del dado es 6, el jugador ganara el valor minimo de la apuesta al instante.\n",
      "    ____\n",
      "    \n",
      "    \n"
     ]
    }
   ],
   "source": [
    "def reglas ():\n",
    "    print(\"\"\"Regla 1:\n",
    "    para iniciar el juego, los jugadores deberan acordar una couta de entrada a la mesa, esta sera de minimo 5000 \n",
    "    COP sin limite maximo. Este valor fijado al comienzo del juego se usara como minimo de apuesta y dichas apuestas \n",
    "    deberan ser multiplos de este valor acorado.\n",
    "    ____\n",
    "    \n",
    "    Regla 2: El casino recibira 5% del acumulado por cada retiro de los usuarios.\n",
    "    \n",
    "    ____\n",
    "    \n",
    "    Regla 3: El juego tendra como maximo 5 jugadores, este acabara cuando el acumulado de la mesa se quede sin dinero.\n",
    "    ____\n",
    "    \n",
    "    Reglas de juego:\n",
    "    \n",
    "    Al lanzar el dado, si el resultado del dado es 1 el jugador pierde y debera\n",
    "    pagar el minimo de apuesta acordado al comienzo del juego.\n",
    "    ____\n",
    "    \n",
    "    Si el resultado del dado es 2,3,4 o 5 el jugador debera apostar\n",
    "    por multiplos de la apuesta acordada al comienzo del juego, el siguiente tiro de el dado debe ser mayor \n",
    "    al primer valor sacado en el dado, por ejemplo si el primer tiro es dos, el siguiente tiro tiene que ser mayor a dos\n",
    "    para que este gane lo que aposto. \n",
    "    ____\n",
    "    \n",
    "    Finalmente si el resultado del dado es 6, el jugador ganara el valor minimo de la apuesta al instante.\n",
    "    ____\n",
    "    \n",
    "    \"\"\")\n",
    "reglas()"
   ]
  },
  {
   "cell_type": "code",
   "execution_count": 39,
   "id": "a3b4a7d5",
   "metadata": {
    "scrolled": true
   },
   "outputs": [
    {
     "name": "stdout",
     "output_type": "stream",
     "text": [
      "digite el numero de jugadores,recuerde que deben haber maximo 5 jugadores y minimo 2: 2\n",
      "se han elegido 2 jugadores\n",
      "jugador # 1 por favor ingrese su nombre :\n",
      "daniel\n",
      "El jugador daniel Esta registrado\n",
      "jugador # 2 por favor ingrese su nombre :\n",
      "pedro\n",
      "El jugador pedro Esta registrado\n"
     ]
    },
    {
     "data": {
      "text/plain": [
       "['daniel', 'pedro']"
      ]
     },
     "execution_count": 39,
     "metadata": {},
     "output_type": "execute_result"
    }
   ],
   "source": [
    "maximo_jugadores=4\n",
    "ganador=False\n",
    "nombre_jugador=[]\n",
    "def juego():\n",
    "    jugadores=0\n",
    "    while True:\n",
    "        jugadores=int(input(\"digite el numero de jugadores,recuerde que deben haber maximo 5 jugadores y minimo 2: \"))\n",
    "        if (jugadores>=2 and jugadores<=4):\n",
    "            print(\"se han elegido {} jugadores\".format(jugadores))\n",
    "            return jugadores          \n",
    "            break\n",
    "        else:\n",
    "            print(\"digite una opcion valida de jugadores\")\n",
    "    \n",
    "def nombre_jugadores():\n",
    "    global nombre_jugador\n",
    "    for i in range(juego()):\n",
    "        print(\"jugador #\", str(i+1) + \" por favor ingrese su nombre :\")\n",
    "        NombreXD = input(\"\")\n",
    "        nombre_jugador.append(NombreXD)\n",
    "        print(\"El jugador\", NombreXD, \"Esta registrado\")\n",
    "    return(nombre_jugador)\n",
    "    \n",
    "nombre_jugadores()"
   ]
  },
  {
   "cell_type": "code",
   "execution_count": 26,
   "id": "e1a1d853",
   "metadata": {},
   "outputs": [
    {
     "name": "stdout",
     "output_type": "stream",
     "text": [
      "Digite el valor inicial de la apuesta: 5000\n",
      "El valor de la apuesta 5000 es valido\n"
     ]
    },
    {
     "data": {
      "text/plain": [
       "5000"
      ]
     },
     "execution_count": 26,
     "metadata": {},
     "output_type": "execute_result"
    }
   ],
   "source": [
    "def Apuesta_inicial():\n",
    "    x=0\n",
    "    while True:\n",
    "        x=int(input(\"Digite el valor inicial de la apuesta: \"))\n",
    "        y=[x*i for i in range(5001)]\n",
    "        if x>=4999:\n",
    "            if x in y:\n",
    "                print('El valor de la apuesta', x, 'es valido')\n",
    "            elif x not in y:\n",
    "                print(\"Ingrese un valor valido\")\n",
    "            return x\n",
    "            break\n",
    "        else:\n",
    "            print(\"Digite un valor valido a apostar\")\n",
    "Apuesta_inicial()"
   ]
  },
  {
   "cell_type": "code",
   "execution_count": 27,
   "id": "00f26a5b",
   "metadata": {},
   "outputs": [
    {
     "name": "stdout",
     "output_type": "stream",
     "text": [
      "Digite el valor inicial de la apuesta: 5000\n",
      "El valor de la apuesta 5000 es valido\n",
      "digite el numero de jugadores,recuerde que deben haber maximo 5 jugadores y minimo 2: 2\n",
      "se han elegido 2 jugadores\n"
     ]
    },
    {
     "data": {
      "text/plain": [
       "10000"
      ]
     },
     "execution_count": 27,
     "metadata": {},
     "output_type": "execute_result"
    }
   ],
   "source": [
    "def acumulado():\n",
    "    asd= Apuesta_inicial()*juego()\n",
    "    return asd\n",
    "acumulado()"
   ]
  },
  {
   "cell_type": "code",
   "execution_count": 28,
   "id": "7da8847a",
   "metadata": {},
   "outputs": [
    {
     "name": "stdout",
     "output_type": "stream",
     "text": [
      "Digite el valor inicial de la apuesta: 5000\n",
      "El valor de la apuesta 5000 es valido\n",
      "digite el numero de jugadores,recuerde que deben haber maximo 5 jugadores y minimo 2: 2\n",
      "se han elegido 2 jugadores\n",
      "El casino se queda con:  500.0\n",
      "Queda en la mesa  9500.0\n"
     ]
    },
    {
     "data": {
      "text/plain": [
       "9500.0"
      ]
     },
     "execution_count": 28,
     "metadata": {},
     "output_type": "execute_result"
    }
   ],
   "source": [
    "def retiro_casino():\n",
    "    h=int(acumulado())\n",
    "    z=h*0.05\n",
    "    f=h-z\n",
    "    print(\"El casino se queda con: \",z)\n",
    "    print(\"Queda en la mesa \",f)\n",
    "    return f\n",
    "retiro_casino()"
   ]
  },
  {
   "cell_type": "code",
   "execution_count": 29,
   "id": "e89a8973",
   "metadata": {},
   "outputs": [
    {
     "name": "stdout",
     "output_type": "stream",
     "text": [
      "el resultado del dado es 3\n",
      "3 debe de apostar\n"
     ]
    }
   ],
   "source": [
    "def dado():\n",
    "    xd = random.randint(1,6)\n",
    "    print (\"el resultado del dado es\",xd)\n",
    "    return xd\n",
    "def eldado():\n",
    "    x = dado()\n",
    "    if x==1:\n",
    "        print(x,\"perdio\")\n",
    "    if x in [2,3,4,5]:\n",
    "        print(x,\"debe de apostar\")\n",
    "    if x==6:\n",
    "        print(x,\"gano\")\n",
    "eldado()"
   ]
  },
  {
   "cell_type": "code",
   "execution_count": 30,
   "id": "5d177ae9",
   "metadata": {},
   "outputs": [
    {
     "name": "stdout",
     "output_type": "stream",
     "text": [
      "Digite el valor inicial de la apuesta: 5000\n",
      "El valor de la apuesta 5000 es valido\n"
     ]
    },
    {
     "data": {
      "text/plain": [
       "5000"
      ]
     },
     "execution_count": 30,
     "metadata": {},
     "output_type": "execute_result"
    }
   ],
   "source": [
    "def Apuesta_inicial():\n",
    "    x=0\n",
    "    while True:\n",
    "        x=int(input(\"Digite el valor inicial de la apuesta: \"))\n",
    "        y=[x*i for i in range(5001)]\n",
    "        if x>4999:\n",
    "            if x in y:\n",
    "                print('El valor de la apuesta', x, 'es valido')\n",
    "            elif x not in y:\n",
    "                print(\"Ingrese un valor valido\")\n",
    "            return x\n",
    "            break\n",
    "        else:\n",
    "            print(\"Digite un valor valido a apostar\")\n",
    "    def acumulado():\n",
    "        asd= Apuesta_inicial()*juego()\n",
    "        return asd\n",
    "    def retirosjug():\n",
    "        mjds= eldado()\n",
    "        if mjds == 1:\n",
    "            print(\"ingrese \", Apuesta_inicial(),\" a el acumulado\")\n",
    "            alp= Apuesta_inicial()+ acumulado()\n",
    "        if mjds == 6:\n",
    "            print(\"retire el valor apostado inicialmente\")\n",
    "            lmd= Acumulado()-Apuesta_inicial()\n",
    "            print(\"queda \",lmd ,\" en el acumulado\")\n",
    "Apuesta_inicial()"
   ]
  },
  {
   "cell_type": "code",
   "execution_count": 31,
   "id": "40dec612",
   "metadata": {},
   "outputs": [
    {
     "name": "stdout",
     "output_type": "stream",
     "text": [
      "Digite el valor inicial de la apuesta: 5000\n",
      "El valor de la apuesta 5000 es valido\n",
      "Digite el valor inicial de la apuesta: 5000\n",
      "El valor de la apuesta 5000 es valido\n",
      "digite el numero de jugadores,recuerde que deben haber maximo 5 jugadores y minimo 2: 3\n",
      "se han elegido 3 jugadores\n",
      "el resultado del dado es 4\n",
      "4\n",
      "apueste por multiplos: 1\n",
      "el resultado del dado es 1\n",
      "Ha perdido! quedan en el acumulado 15001\n"
     ]
    }
   ],
   "source": [
    "def saldototal():\n",
    "    delt= int(Apuesta_inicial())\n",
    "    pool= int(acumulado())\n",
    "    mjds= int(dado())\n",
    "    print(mjds)\n",
    "    if mjds == 1:\n",
    "        print(\"pague \", delt,\" a el acumulado\")\n",
    "        alp= delt+ pool\n",
    "        return print(\"queda\", alp,\" en el acumulado\")\n",
    "    if mjds == 6:\n",
    "        print(\"retire el valor apostado inicialmente\")\n",
    "        lmd= pool-delt\n",
    "        return print(\"queda \",lmd ,\" en el acumulado\")\n",
    "    if mjds in [2,3,4,5]:\n",
    "        tit= int(input(\"apueste por multiplos: \"))\n",
    "        uncool= tit*delt\n",
    "        time.sleep(2)\n",
    "        msdk= int(dado())\n",
    "        if msdk>mjds:\n",
    "            new_pool= pool-tit\n",
    "            return print(\"Tenemos un ganador! quedan en el acumulado\",new_pool)\n",
    "        if msdk<mjds:\n",
    "            newnewpool= pool+tit\n",
    "            return print(\"Ha perdido! quedan en el acumulado\", newnewpool)\n",
    "saldototal()"
   ]
  },
  {
   "cell_type": "code",
   "execution_count": 51,
   "id": "e4991f7a",
   "metadata": {},
   "outputs": [
    {
     "name": "stdout",
     "output_type": "stream",
     "text": [
      "['daniel', 'pedro']\n",
      "['daniel', 'pedro']\n"
     ]
    }
   ],
   "source": [
    "for i in range(len(nombre_jugador)):\n",
    "    print(nombre_jugador[0:len(nombre_jugador)])"
   ]
  },
  {
   "cell_type": "code",
   "execution_count": null,
   "id": "dc4b395f",
   "metadata": {},
   "outputs": [],
   "source": []
  }
 ],
 "metadata": {
  "kernelspec": {
   "display_name": "Python 3 (ipykernel)",
   "language": "python",
   "name": "python3"
  },
  "language_info": {
   "codemirror_mode": {
    "name": "ipython",
    "version": 3
   },
   "file_extension": ".py",
   "mimetype": "text/x-python",
   "name": "python",
   "nbconvert_exporter": "python",
   "pygments_lexer": "ipython3",
   "version": "3.9.7"
  }
 },
 "nbformat": 4,
 "nbformat_minor": 5
}
