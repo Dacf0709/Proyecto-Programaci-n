{
 "cells": [
  {
   "cell_type": "code",
   "execution_count": 44,
   "id": "e83bf4b6",
   "metadata": {},
   "outputs": [],
   "source": [
    "import random "
   ]
  },
  {
   "cell_type": "code",
   "execution_count": 45,
   "id": "b290c8fd",
   "metadata": {},
   "outputs": [],
   "source": [
    "\n",
    "maximo_jugadores=5\n",
    "ganador=False\n",
    "nombre_jugador=[]"
   ]
  },
  {
   "cell_type": "code",
   "execution_count": 46,
   "id": "ad469445",
   "metadata": {},
   "outputs": [],
   "source": [
    "def juego():\n",
    "    jugadores=0\n",
    "    while True:\n",
    "        jugadores=int(input(\"digite el numero de jugadores,recuerde que deben haber maximo 5 jugadores y minimo 2: \"))\n",
    "        if (jugadores>=2 and jugadores<=5):\n",
    "            print(\"se han elegido {} jugadores\".format(jugadores))\n",
    "            return jugadores\n",
    "           \n",
    "            break\n",
    "        else:\n",
    "            print(\"digite una opcion valida de jugadores\")"
   ]
  },
  {
   "cell_type": "code",
   "execution_count": null,
   "id": "79dfcdb4",
   "metadata": {},
   "outputs": [],
   "source": [
    "def nombre_jugadores():\n",
    "    global nombre_jugador\n",
    "    for i in range(juego()):\n",
    "        print(\"jugador #\", str(i+1) + \" por favor ingrese su nombre :\")\n",
    "        NombreXD = input(\"\")\n",
    "        nombre_jugador.append([NombreXD, 10000, 0])\n",
    "        print(\"El jugador\", NombreXD, \"Esta registrado\")\n"
   ]
  },
  {
   "cell_type": "code",
   "execution_count": null,
   "id": "7fe9d61a",
   "metadata": {},
   "outputs": [],
   "source": [
    "nombre_jugadores()"
   ]
  },
  {
   "cell_type": "code",
   "execution_count": 42,
   "id": "0c805da7",
   "metadata": {},
   "outputs": [],
   "source": [
    "def dado():\n",
    "    xd = random.randint(1,6)\n",
    "    print(\"el lanzamiento del dado es:\".format(xd))\n",
    "    return xd"
   ]
  },
  {
   "cell_type": "code",
   "execution_count": 43,
   "id": "c1b48823",
   "metadata": {},
   "outputs": [
    {
     "name": "stdout",
     "output_type": "stream",
     "text": [
      "el lanzamiento del dado es:\n"
     ]
    },
    {
     "data": {
      "text/plain": [
       "6"
      ]
     },
     "execution_count": 43,
     "metadata": {},
     "output_type": "execute_result"
    }
   ],
   "source": [
    "dado()"
   ]
  }
 ],
 "metadata": {
  "kernelspec": {
   "display_name": "Python 3 (ipykernel)",
   "language": "python",
   "name": "python3"
  },
  "language_info": {
   "codemirror_mode": {
    "name": "ipython",
    "version": 3
   },
   "file_extension": ".py",
   "mimetype": "text/x-python",
   "name": "python",
   "nbconvert_exporter": "python",
   "pygments_lexer": "ipython3",
   "version": "3.9.7"
  }
 },
 "nbformat": 4,
 "nbformat_minor": 5
}
