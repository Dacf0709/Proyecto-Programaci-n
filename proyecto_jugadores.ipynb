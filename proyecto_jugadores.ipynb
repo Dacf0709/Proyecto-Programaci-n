{
 "cells": [
  {
   "cell_type": "code",
   "execution_count": 7,
   "id": "e9fe05b9",
   "metadata": {},
   "outputs": [],
   "source": [
    "import random"
   ]
  },
  {
   "cell_type": "code",
   "execution_count": 8,
   "id": "ab4097d4",
   "metadata": {},
   "outputs": [
    {
     "data": {
      "text/plain": [
       "3"
      ]
     },
     "execution_count": 8,
     "metadata": {},
     "output_type": "execute_result"
    }
   ],
   "source": [
    "random.randint(1,6)\n"
   ]
  },
  {
   "cell_type": "code",
   "execution_count": 9,
   "id": "e6e441b6",
   "metadata": {},
   "outputs": [],
   "source": [
    "def lanzamientos():\n",
    "\n",
    "    n = random.randint(1,6)\n",
    "    m = random.randint(1,6)\n",
    "\n",
    "        \n",
    "    print (\"primer lanzamiento \", n)\n",
    "    print (\"segundo lanzamiento\",m)\n",
    "    if m>n:\n",
    "        print (\"El jugador gana, retira lo que aposto\")\n",
    "        print (\" \")\n",
    "        return (1)\n",
    "    else:\n",
    "        if n==m:\n",
    "            print (\"Tiros iguales, debe colocar el case\")\n",
    "            print (\" \")\n",
    "            return (0)\n",
    "        else:\n",
    "            print (\"El jugador pierde, debe colocar lo que aposto\")\n",
    "            print (\" \")\n",
    "            return (0)\n",
    "    if m==1 or m==6:\n",
    "        print (\"El jugador pierde con \",n,\" debe colocar el case\")\n",
    "        print (\" \")\n",
    "        return (0)\n",
    "    else:\n",
    "        return lanzamiento(n,random.randint(1,6))"
   ]
  },
  {
   "cell_type": "code",
   "execution_count": 12,
   "id": "408b1188",
   "metadata": {},
   "outputs": [
    {
     "name": "stdout",
     "output_type": "stream",
     "text": [
      "digite el numero de jugadores,recuerde que deben haber maximo 5 jugadores y minimo 2: 5\n",
      "digite el nombre del jugador #1e\n",
      "digite el nombre del jugador #2e\n",
      "digite el nombre del jugador #3e\n",
      "digite el nombre del jugador #3r\n",
      "digite el nombre del jugador #1e\n"
     ]
    }
   ],
   "source": [
    "def num_jugadores():\n",
    "    jugador=int(input(\"digite el numero de jugadores,recuerde que deben haber maximo 5 jugadores y minimo 2: \"))\n",
    "    if jugador==2:\n",
    "        x=input(\"digite el nombre del jugador #1\")\n",
    "        y=input(\"digite el nombre del jugador #2\")\n",
    "    elif jugador==3:\n",
    "        x1=input(\"digite el nombre del jugador #1\")\n",
    "        y1=input(\"digite el nombre del jugador #2\")\n",
    "        z1=input(\"digite el nombre del jugador #3\")\n",
    "    elif jugador==4:\n",
    "        x2=input(\"digite el nombre del jugador #1\")\n",
    "        y2=input(\"digite el nombre del jugador #2\")\n",
    "        z2=input(\"digite el nombre del jugador #3\")\n",
    "        z2=input(\"digite el nombre del jugador #3\")\n",
    "    elif jugador==5:\n",
    "        x3=input(\"digite el nombre del jugador #1\")\n",
    "        y3=input(\"digite el nombre del jugador #2\")\n",
    "        z3=input(\"digite el nombre del jugador #3\")\n",
    "        z3=input(\"digite el nombre del jugador #3\")\n",
    "        x3=input(\"digite el nombre del jugador #1\")\n",
    "    else:\n",
    "        print(\"digite un numero valido de jugadores entre 2 y 5\")\n",
    "      \n",
    "        \n",
    "        \n",
    "        \n",
    "num_jugadores()"
   ]
  },
  {
   "cell_type": "code",
   "execution_count": null,
   "id": "679f5e6d",
   "metadata": {},
   "outputs": [],
   "source": []
  }
 ],
 "metadata": {
  "kernelspec": {
   "display_name": "Python 3 (ipykernel)",
   "language": "python",
   "name": "python3"
  },
  "language_info": {
   "codemirror_mode": {
    "name": "ipython",
    "version": 3
   },
   "file_extension": ".py",
   "mimetype": "text/x-python",
   "name": "python",
   "nbconvert_exporter": "python",
   "pygments_lexer": "ipython3",
   "version": "3.9.7"
  }
 },
 "nbformat": 4,
 "nbformat_minor": 5
}
